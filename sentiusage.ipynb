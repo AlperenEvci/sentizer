{
 "cells": [
  {
   "cell_type": "code",
   "execution_count": null,
   "metadata": {},
   "outputs": [
    {
     "name": "stderr",
     "output_type": "stream",
     "text": [
      "C:\\Users\\alper\\AppData\\Local\\Packages\\PythonSoftwareFoundation.Python.3.11_qbz5n2kfra8p0\\LocalCache\\local-packages\\Python311\\site-packages\\tqdm\\auto.py:21: TqdmWarning: IProgress not found. Please update jupyter and ipywidgets. See https://ipywidgets.readthedocs.io/en/stable/user_install.html\n",
      "  from .autonotebook import tqdm as notebook_tqdm\n"
     ]
    }
   ],
   "source": [
    "#add comments\n",
    "from transformers import pipeline #this is the pipeline module from the transformers library\n",
    "from transformers import  TFAutoModelForSequenceClassification, AutoTokenizer #this is the model and tokenizer module from the transformers library\n",
    "import pandas as pd #this is the pandas library\n",
    "import numpy as np #this is the numpy library\n",
    "import tensorflow as tf #this is the tensorflow library"
   ]
  },
  {
   "cell_type": "code",
   "execution_count": null,
   "metadata": {},
   "outputs": [
    {
     "name": "stdout",
     "output_type": "stream",
     "text": [
      "WARNING:tensorflow:From C:\\Users\\alper\\AppData\\Local\\Packages\\PythonSoftwareFoundation.Python.3.11_qbz5n2kfra8p0\\LocalCache\\local-packages\\Python311\\site-packages\\tf_keras\\src\\losses.py:2976: The name tf.losses.sparse_softmax_cross_entropy is deprecated. Please use tf.compat.v1.losses.sparse_softmax_cross_entropy instead.\n",
      "\n",
      "WARNING:tensorflow:From C:\\Users\\alper\\AppData\\Local\\Packages\\PythonSoftwareFoundation.Python.3.11_qbz5n2kfra8p0\\LocalCache\\local-packages\\Python311\\site-packages\\tf_keras\\src\\backend.py:873: The name tf.get_default_graph is deprecated. Please use tf.compat.v1.get_default_graph instead.\n",
      "\n"
     ]
    },
    {
     "name": "stderr",
     "output_type": "stream",
     "text": [
      "All PyTorch model weights were used when initializing TFBertForSequenceClassification.\n",
      "\n",
      "All the weights of TFBertForSequenceClassification were initialized from the PyTorch model.\n",
      "If your task is similar to the task the model of the checkpoint was trained on, you can already use TFBertForSequenceClassification for predictions without further training.\n"
     ]
    }
   ],
   "source": [
    "model_name = \"bert-tr-sentiment\" #this is the model name\n",
    "model = TFAutoModelForSequenceClassification.from_pretrained(model_name) #this is the model\n",
    "tokenizer = AutoTokenizer.from_pretrained(model_name) #this is the tokenizer"
   ]
  },
  {
   "cell_type": "code",
   "execution_count": null,
   "metadata": {},
   "outputs": [],
   "source": [
    "file = \"data/istenen1.csv\"  #this is the file\n",
    "df = pd.read_csv(file) #this is the dataframe"
   ]
  },
  {
   "cell_type": "code",
   "execution_count": null,
   "metadata": {},
   "outputs": [
    {
     "data": {
      "text/html": [
       "<div>\n",
       "<style scoped>\n",
       "    .dataframe tbody tr th:only-of-type {\n",
       "        vertical-align: middle;\n",
       "    }\n",
       "\n",
       "    .dataframe tbody tr th {\n",
       "        vertical-align: top;\n",
       "    }\n",
       "\n",
       "    .dataframe thead th {\n",
       "        text-align: right;\n",
       "    }\n",
       "</style>\n",
       "<table border=\"1\" class=\"dataframe\">\n",
       "  <thead>\n",
       "    <tr style=\"text-align: right;\">\n",
       "      <th></th>\n",
       "      <th>sentiment</th>\n",
       "      <th>Comments</th>\n",
       "    </tr>\n",
       "  </thead>\n",
       "  <tbody>\n",
       "    <tr>\n",
       "      <th>0</th>\n",
       "      <td>neutral</td>\n",
       "      <td>hastalarına ne zaman geleceği bellı olmayan ve...</td>\n",
       "    </tr>\n",
       "    <tr>\n",
       "      <th>1</th>\n",
       "      <td>positive</td>\n",
       "      <td>tedavi shekli, hastalıgın seyrıne gore gun ash...</td>\n",
       "    </tr>\n",
       "    <tr>\n",
       "      <th>2</th>\n",
       "      <td>positive</td>\n",
       "      <td>turkiyede yaklashık 30.000mshastası bulunmakta...</td>\n",
       "    </tr>\n",
       "    <tr>\n",
       "      <th>3</th>\n",
       "      <td>positive</td>\n",
       "      <td>bu da birautoimmune diseasedir.</td>\n",
       "    </tr>\n",
       "    <tr>\n",
       "      <th>4</th>\n",
       "      <td>neutral</td>\n",
       "      <td>merkez sinir sisteminin en sık görülen hastalı...</td>\n",
       "    </tr>\n",
       "  </tbody>\n",
       "</table>\n",
       "</div>"
      ],
      "text/plain": [
       "  sentiment                                           Comments\n",
       "0   neutral  hastalarına ne zaman geleceği bellı olmayan ve...\n",
       "1  positive  tedavi shekli, hastalıgın seyrıne gore gun ash...\n",
       "2  positive  turkiyede yaklashık 30.000mshastası bulunmakta...\n",
       "3  positive                    bu da birautoimmune diseasedir.\n",
       "4   neutral  merkez sinir sisteminin en sık görülen hastalı..."
      ]
     },
     "execution_count": 14,
     "metadata": {},
     "output_type": "execute_result"
    }
   ],
   "source": [
    "def process_comments(filename, column_name):  #this is the function\n",
    "    # Load the data\n",
    "    df = pd.read_csv(filename)\n",
    "    \n",
    "    # Truncate the input text to the maximum token length supported by the model\n",
    "    def predict(text):\n",
    "        inputs = tokenizer(text, return_tensors=\"tf\", truncation=True, max_length=512)\n",
    "        output = model(**inputs)\n",
    "        return output.logits.numpy()\n",
    "\n",
    "    # Use the model to predict the sentiment of the column of comments and create a new column with the predictions\n",
    "    df[\"sentiment\"] = df[column_name].apply(lambda x: predict(x))\n",
    "    df[\"sentiment\"] = df[\"sentiment\"].apply(lambda x: np.argmax(x, axis=1))\n",
    "    df[\"sentiment\"] = df[\"sentiment\"].apply(lambda x: \"positive\" if x == 1 else (\"negative\" if x == -1 else \"neutral\"))\n",
    "    \n",
    "    # Making a new table with the sentiment values and the comments\n",
    "    df = df[[\"sentiment\", column_name]]\n",
    "    \n",
    "    # Save the processed dataframe to a new CSV file\n",
    "    output_filename = filename.replace(\".csv\", \"_sentiment.csv\")\n",
    "    df.to_csv(output_filename, index=False)\n",
    "    \n",
    "    return df\n",
    "\n"
   ]
  },
  {
   "cell_type": "code",
   "execution_count": 20,
   "metadata": {},
   "outputs": [],
   "source": [
    "data2 = pd.read_csv(\"data/istenen2.csv\")\n",
    "data2 = data2[:50]\n",
    "data2 = data2[\"Comments\"]\n",
    "data2.head()\n",
    "\n",
    "data2.to_csv(\"datatable.csv\", index=False)"
   ]
  },
  {
   "cell_type": "code",
   "execution_count": 23,
   "metadata": {},
   "outputs": [
    {
     "data": {
      "text/html": [
       "<div>\n",
       "<style scoped>\n",
       "    .dataframe tbody tr th:only-of-type {\n",
       "        vertical-align: middle;\n",
       "    }\n",
       "\n",
       "    .dataframe tbody tr th {\n",
       "        vertical-align: top;\n",
       "    }\n",
       "\n",
       "    .dataframe thead th {\n",
       "        text-align: right;\n",
       "    }\n",
       "</style>\n",
       "<table border=\"1\" class=\"dataframe\">\n",
       "  <thead>\n",
       "    <tr style=\"text-align: right;\">\n",
       "      <th></th>\n",
       "      <th>sentiment</th>\n",
       "      <th>Comments</th>\n",
       "    </tr>\n",
       "  </thead>\n",
       "  <tbody>\n",
       "    <tr>\n",
       "      <th>0</th>\n",
       "      <td>neutral</td>\n",
       "      <td>hastalarına ne zaman geleceği bellı olmayan ve...</td>\n",
       "    </tr>\n",
       "    <tr>\n",
       "      <th>1</th>\n",
       "      <td>positive</td>\n",
       "      <td>tedavi shekli, hastalıgın seyrıne gore gun ash...</td>\n",
       "    </tr>\n",
       "    <tr>\n",
       "      <th>2</th>\n",
       "      <td>positive</td>\n",
       "      <td>turkiyede yaklashık 30.000mshastası bulunmakta...</td>\n",
       "    </tr>\n",
       "    <tr>\n",
       "      <th>3</th>\n",
       "      <td>positive</td>\n",
       "      <td>bu da birautoimmune diseasedir.</td>\n",
       "    </tr>\n",
       "    <tr>\n",
       "      <th>4</th>\n",
       "      <td>neutral</td>\n",
       "      <td>merkez sinir sisteminin en sık görülen hastalı...</td>\n",
       "    </tr>\n",
       "  </tbody>\n",
       "</table>\n",
       "</div>"
      ],
      "text/plain": [
       "  sentiment                                           Comments\n",
       "0   neutral  hastalarına ne zaman geleceği bellı olmayan ve...\n",
       "1  positive  tedavi shekli, hastalıgın seyrıne gore gun ash...\n",
       "2  positive  turkiyede yaklashık 30.000mshastası bulunmakta...\n",
       "3  positive                    bu da birautoimmune diseasedir.\n",
       "4   neutral  merkez sinir sisteminin en sık görülen hastalı..."
      ]
     },
     "execution_count": 23,
     "metadata": {},
     "output_type": "execute_result"
    }
   ],
   "source": [
    "\n",
    "import tkinter as tk\n",
    "from tkinter import filedialog, messagebox\n",
    "\n",
    "def browse_file():\n",
    "    file_path = filedialog.askopenfilename(title=\"Dosya Seç\")\n",
    "    if file_path:\n",
    "        file_entry.delete(0, tk.END)\n",
    "        file_entry.insert(0, file_path)\n",
    "\n",
    "def submit():\n",
    "    file_path = file_entry.get()\n",
    "    column_name = column_entry.get()\n",
    "\n",
    "    if not file_path or not column_name:\n",
    "        messagebox.showerror(\"Hata\", \"Lütfen dosya konumunu ve sütun ismini giriniz!\")\n",
    "    else:\n",
    "        # Burada sentiment analiz fonksiyonunuzu çağırabilirsiniz\n",
    "        print(f\"Dosya Konumu: {file_path}\")\n",
    "        print(f\"Sütun İsmi: {column_name}\")\n",
    "        df = process_comments(file_path, column_name)\n",
    "\n",
    "        #when the process is done notify the user\n",
    "        messagebox.showinfo(\"Bilgi\", \"Sentiment analiz işlemi tamamlandı!\")\n",
    "        #dosyanın konumuna erişimi sağla\n",
    "        print(f\"Sentiment analiz sonucu: {file_path.replace('.csv', '_sentiment.csv')}\")\n",
    "\n",
    "# Ana pencere\n",
    "window = tk.Tk()\n",
    "window.title(\"Sentiment Analiz Arayüzü\")\n",
    "\n",
    "# Dosya Konumu\n",
    "tk.Label(window, text=\"Dosya Konumu:\").grid(row=0, column=0, padx=10, pady=10)\n",
    "file_entry = tk.Entry(window, width=50)\n",
    "file_entry.grid(row=0, column=1, padx=10, pady=10)\n",
    "browse_button = tk.Button(window, text=\"Gözat\", command=browse_file)\n",
    "browse_button.grid(row=0, column=2, padx=10, pady=10)\n",
    "\n",
    "# Sütun İsmi\n",
    "tk.Label(window, text=\"Sütun İsmi:\").grid(row=1, column=0, padx=10, pady=10)\n",
    "column_entry = tk.Entry(window, width=50)\n",
    "column_entry.grid(row=1, column=1, padx=10, pady=10)\n",
    "\n",
    "# Gönder butonu\n",
    "submit_button = tk.Button(window, text=\"Gönder\", command=submit)\n",
    "submit_button.grid(row=2, column=1, padx=10, pady=10)\n",
    "\n",
    "# Pencereyi başlat\n",
    "window.mainloop()\n",
    "\n",
    "\n",
    "df.head()\n"
   ]
  }
 ],
 "metadata": {
  "kernelspec": {
   "display_name": "Python 3",
   "language": "python",
   "name": "python3"
  },
  "language_info": {
   "codemirror_mode": {
    "name": "ipython",
    "version": 3
   },
   "file_extension": ".py",
   "mimetype": "text/x-python",
   "name": "python",
   "nbconvert_exporter": "python",
   "pygments_lexer": "ipython3",
   "version": "3.11.9"
  }
 },
 "nbformat": 4,
 "nbformat_minor": 2
}
